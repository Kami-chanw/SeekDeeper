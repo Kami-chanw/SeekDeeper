{
 "cells": [
  {
   "cell_type": "markdown",
   "metadata": {},
   "source": [
    "## 1. Import Modules and Data"
   ]
  },
  {
   "cell_type": "code",
   "execution_count": 1,
   "metadata": {},
   "outputs": [],
   "source": [
    "from data import load_data\n",
    "\n",
    "tokenizer, *_ = load_data(\"sst2\")"
   ]
  },
  {
   "cell_type": "markdown",
   "metadata": {},
   "source": [
    "## 2. Load Trained Model"
   ]
  },
  {
   "cell_type": "code",
   "execution_count": 2,
   "metadata": {},
   "outputs": [
    {
     "name": "stdout",
     "output_type": "stream",
     "text": [
      "number of parameters: 116.14M\n",
      "number of parameters: 116.15M\n"
     ]
    },
    {
     "data": {
      "text/plain": [
       "GPT(\n",
       "  (transformer): ModuleDict(\n",
       "    (tokens_embed): Embedding(40478, 768)\n",
       "    (positions_embed): Embedding(512, 768)\n",
       "    (drop): Dropout(p=0.1, inplace=False)\n",
       "    (h): ModuleList(\n",
       "      (0-11): 12 x Block(\n",
       "        (ln_1): LayerNorm((768,), eps=1e-05, elementwise_affine=True)\n",
       "        (attn): Attention(\n",
       "          (c_attn): Linear(in_features=768, out_features=2304, bias=True)\n",
       "          (c_proj): Linear(in_features=768, out_features=768, bias=True)\n",
       "          (attn_dropout): Dropout(p=0.1, inplace=False)\n",
       "          (resid_dropout): Dropout(p=0.1, inplace=False)\n",
       "        )\n",
       "        (ln_2): LayerNorm((768,), eps=1e-05, elementwise_affine=True)\n",
       "        (mlp): ModuleDict(\n",
       "          (c_fc): Linear(in_features=768, out_features=3072, bias=True)\n",
       "          (act): GELU(approximate='tanh')\n",
       "          (c_proj): Linear(in_features=3072, out_features=768, bias=True)\n",
       "          (dropout): Dropout(p=0.1, inplace=False)\n",
       "        )\n",
       "      )\n",
       "    )\n",
       "  )\n",
       "  (lm_head): Linear(in_features=768, out_features=40478, bias=False)\n",
       ")"
      ]
     },
     "execution_count": 2,
     "metadata": {},
     "output_type": "execute_result"
    }
   ],
   "source": [
    "import torch\n",
    "\n",
    "import config\n",
    "from modules import GPT, GPTClassifier\n",
    "\n",
    "device_gpt_clf = torch.device(\"cuda:2\")\n",
    "device_gpt = torch.device(\"cuda:1\")\n",
    "\n",
    "gpt = GPT.from_pretrained(config.pretrained_dir, num_frozen_layers=12).to(device_gpt)\n",
    "gpt.eval()\n",
    "\n",
    "n_classes = 2  # sst2 is a binary classification task\n",
    "gpt_clf = GPTClassifier.from_pretrained(\n",
    "    config.pretrained_dir,\n",
    "    num_frozen_layers=12,\n",
    "    n_classes=n_classes,\n",
    "    vocab_size=40478 + 3,  # add 3 special tokens\n",
    ").to(device_gpt_clf)\n",
    "gpt_clf.load_state_dict(torch.load(config.checkpoint_dir / \"gpt_clf_3.pth\")[\"model\"])\n",
    "gpt.eval()"
   ]
  },
  {
   "cell_type": "markdown",
   "metadata": {},
   "source": [
    "## 3. Compare Generate Ability\n"
   ]
  },
  {
   "cell_type": "code",
   "execution_count": 3,
   "metadata": {},
   "outputs": [
    {
     "name": "stdout",
     "output_type": "stream",
     "text": [
      "Pretrained GPT output:  [\"hi , i 'm kami - chanw , a hi hi hi hi hi hi hi hi hi hi \"]\n",
      "Fine-tuned GPT output:  [\"hi , i 'm kami - chanw , a ya ya . take only the ease that the country \"]\n"
     ]
    }
   ],
   "source": [
    "text = \"Hi, I'm Kami-chanw, a\"\n",
    "ids = tokenizer.encode(text, verbose=False)\n",
    "ids_tensor = torch.tensor(ids, dtype=torch.long)\n",
    "print(\n",
    "    \"Pretrained GPT output: \",\n",
    "    tokenizer.decode(\n",
    "        gpt.generate(ids_tensor.to(device_gpt), max_new_tokens=10).tolist(),\n",
    "        skip_special_tokens=True,\n",
    "    ),\n",
    ")\n",
    "print(\n",
    "    \"Fine-tuned GPT output: \",\n",
    "    tokenizer.decode(\n",
    "        gpt_clf.generate(ids_tensor.to(device_gpt_clf), max_new_tokens=10).tolist(),\n",
    "        skip_special_tokens=True,\n",
    "    ),\n",
    ")"
   ]
  }
 ],
 "metadata": {
  "kernelspec": {
   "display_name": "base",
   "language": "python",
   "name": "python3"
  },
  "language_info": {
   "codemirror_mode": {
    "name": "ipython",
    "version": 3
   },
   "file_extension": ".py",
   "mimetype": "text/x-python",
   "name": "python",
   "nbconvert_exporter": "python",
   "pygments_lexer": "ipython3",
   "version": "3.12.2"
  }
 },
 "nbformat": 4,
 "nbformat_minor": 2
}
