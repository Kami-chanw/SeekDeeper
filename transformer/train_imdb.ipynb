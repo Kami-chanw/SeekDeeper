{
 "cells": [
  {
   "cell_type": "markdown",
   "metadata": {},
   "source": [
    "## 1. Import Modules and Data\n",
    "If you haven't download IMDB dataset, please run `download_imdb.py` or download and unzip `aclImdb_v1.tar.gz` from [here](http://ai.stanford.edu/~amaas/data/sentiment)."
   ]
  },
  {
   "cell_type": "code",
   "execution_count": null,
   "metadata": {},
   "outputs": [],
   "source": [
    "from data_imdb import test_loader, train_loader, vocab, PAD_TOKEN, CLS_TOKEN\n",
    "from modules import Encoder, Transformer, make_src_mask\n",
    "import torch\n",
    "from torch import nn\n",
    "from config import *\n",
    "from tqdm import tqdm\n",
    "from torch.optim.lr_scheduler import CosineAnnealingLR\n",
    "import os\n",
    "\n",
    "checkpoint_dir = \"./checkpoints\"\n",
    "os.makedirs(checkpoint_dir, exist_ok=True)\n",
    "\n",
    "torch.manual_seed(3407)\n",
    "device"
   ]
  },
  {
   "cell_type": "markdown",
   "metadata": {},
   "source": [
    "## 2. Build Classifier Model\n",
    "We only need to use the transformer encoder as a text feature extractor, and then use the CLS token attached to the beginning of each text to make predictions."
   ]
  },
  {
   "cell_type": "code",
   "execution_count": null,
   "metadata": {},
   "outputs": [],
   "source": [
    "class SentimentClassifier(nn.Module):\n",
    "    def __init__(self, encoder, d_model, device):\n",
    "        super(SentimentClassifier, self).__init__()\n",
    "        self.encoder = encoder\n",
    "        self.fc = nn.Linear(d_model, 2, device=device)\n",
    "\n",
    "    def forward(self, input_ids, attention_mask):\n",
    "        encoder_output = self.encoder(input_ids, attention_mask)\n",
    "        cls_token_output = encoder_output[:, 0, :]  # Extract CLS token\n",
    "        logits = self.fc(cls_token_output)\n",
    "        return logits\n",
    "\n",
    "model = SentimentClassifier(\n",
    "    Encoder(\n",
    "        enc_voc_size=len(vocab),\n",
    "        max_len=max_len,\n",
    "        d_model=d_model,\n",
    "        ffn_hidden=ffn_hidden,\n",
    "        n_heads=n_heads,\n",
    "        n_layers=n_layers,\n",
    "        dropout=dropout,\n",
    "        device=device,\n",
    "    ),\n",
    "    d_model,\n",
    "    device=device\n",
    ")"
   ]
  },
  {
   "cell_type": "markdown",
   "metadata": {},
   "source": [
    "## 3. Train Model\n",
    "Train model on IMDB training dataset for `epochs` epochs. All relavant training parameters can be found in [config.py](./config.py)."
   ]
  },
  {
   "cell_type": "code",
   "execution_count": null,
   "metadata": {},
   "outputs": [],
   "source": [
    "criterion = nn.CrossEntropyLoss()\n",
    "optimizer = torch.optim.AdamW(model.parameters(), lr=init_lr, weight_decay=weight_decay)\n",
    "scheduler = CosineAnnealingLR(optimizer, T_max=epochs)\n",
    "\n",
    "\n",
    "def train(model, train_loader, optimizer, criterion, scheduler, epoch):\n",
    "    model.train()\n",
    "    total_loss = 0\n",
    "    for batch in tqdm(train_loader, desc=f\"Training Epoch {epoch + 1}\"):\n",
    "        input_ids, labels = batch\n",
    "        input_ids, labels = input_ids.to(device), labels.to(device)\n",
    "\n",
    "        optimizer.zero_grad()\n",
    "        outputs = model(input_ids, make_src_mask(input_ids, vocab[PAD_TOKEN], device))\n",
    "        loss = criterion(outputs, labels)\n",
    "        loss.backward()\n",
    "        torch.nn.utils.clip_grad_norm_(model.parameters(), clip)\n",
    "        optimizer.step()\n",
    "\n",
    "        total_loss += loss.item()\n",
    "\n",
    "    avg_loss = total_loss / len(train_loader)\n",
    "    scheduler.step()\n",
    "\n",
    "    return avg_loss\n",
    "\n",
    "\n",
    "for epoch in range(epochs):\n",
    "    avg_train_loss = train(model, train_loader, optimizer, criterion, scheduler, epoch)\n",
    "    print(f\"Epoch {epoch + 1}/{epochs}, Training Loss: {avg_train_loss}\")\n",
    "\n",
    "checkpoint_path = os.path.join(checkpoint_dir, f\"imdb_ckpt.pth\")\n",
    "torch.save(model.state_dict(), checkpoint_path)"
   ]
  },
  {
   "cell_type": "markdown",
   "metadata": {},
   "source": [
    "## 4. Evaluate Model\n",
    "Evaluate model on IMDB test dataset."
   ]
  },
  {
   "cell_type": "code",
   "execution_count": null,
   "metadata": {},
   "outputs": [],
   "source": [
    "def evaluate(model, test_loader):\n",
    "    model.eval()\n",
    "    total_correct = 0\n",
    "    total_samples = 0\n",
    "    with torch.no_grad():\n",
    "        for batch in tqdm(test_loader, desc=\"Evaluating\"):\n",
    "            input_ids, labels = batch\n",
    "            input_ids, labels = input_ids.to(device), labels.to(device)\n",
    "\n",
    "            outputs = model(\n",
    "                input_ids, make_src_mask(input_ids, vocab[PAD_TOKEN], device)\n",
    "            )\n",
    "            predictions = outputs.argmax(dim=-1)\n",
    "            total_correct += (predictions == labels).sum().item()\n",
    "            total_samples += predictions.size(0)\n",
    "    return total_correct / total_samples\n",
    "\n",
    "accuracy = evaluate(model, test_loader)\n",
    "print(f\"Test Accuracy: {accuracy}\")"
   ]
  }
 ],
 "metadata": {
  "kernelspec": {
   "display_name": "ml",
   "language": "python",
   "name": "python3"
  },
  "language_info": {
   "codemirror_mode": {
    "name": "ipython",
    "version": 3
   },
   "file_extension": ".py",
   "mimetype": "text/x-python",
   "name": "python",
   "nbconvert_exporter": "python",
   "pygments_lexer": "ipython3",
   "version": "3.12.2"
  }
 },
 "nbformat": 4,
 "nbformat_minor": 2
}
